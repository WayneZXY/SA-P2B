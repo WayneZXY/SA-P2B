{
 "cells": [
  {
   "cell_type": "code",
   "execution_count": 31,
   "metadata": {},
   "outputs": [
    {
     "output_type": "execute_result",
     "data": {
      "text/plain": "array([], shape=(3, 0), dtype=float64)"
     },
     "metadata": {},
     "execution_count": 31
    }
   ],
   "source": [
    "from data_classes import PointCloud\n",
    "KITTI_Folder = 'E:\\RUNNING\\ShapeCompletion3DTracking\\data\\\\traning'\n",
    "KITTI_velo = os.path.join(KITTI_Folder, \"velodyne\")\n",
    "velodyne_path = os.path.join(KITTI_velo, '0001', '000012.bin')\n",
    "a = np.fromfile(velodyne_path, dtype=np.float32)\n",
    "PC = PointCloud(a.reshape(-1, 4).T)\n",
    "# PC.points.shape\n",
    "points = np.ones((PC.points.shape[0], 0))\n",
    "points "
   ]
  },
  {
   "cell_type": "code",
   "execution_count": 31,
   "metadata": {},
   "outputs": [
    {
     "output_type": "execute_result",
     "data": {
      "text/plain": "(array([[ 3000.,  3000.,  3000.,  3000., -3000., -3000., -3000., -3000.],\n        [ 2000., -2000., -2000.,  2000.,  2000., -2000., -2000.,  2000.],\n        [ 2500.,  2500., -2500., -2500.,  2500.,  2500., -2500., -2500.]]),\n (array([3000., 2500.]),\n  array([3000., 2500.]),\n  array([-3000.,  2500.]),\n  array([-3000.,  2500.])))"
     },
     "metadata": {},
     "execution_count": 31
    }
   ],
   "source": [
    "import numpy as np\n",
    "from shapely.geometry import Polygon\n",
    "x_corners = 6000/ 2 * np.array([1,  1,  1,  1, -1, -1, -1, -1])\n",
    "y_corners = 4000 / 2 * np.array([1, -1, -1,  1,  1, -1, -1,  1])\n",
    "z_corners = 5000 / 2 * np.array([1,  1, -1, -1,  1,  1, -1, -1])\n",
    "corners = np.vstack((x_corners, y_corners, z_corners))\n",
    "corners, tuple(corners[[0, 2]].T[[0, 1, 5, 4]])\n",
    "# Poly = Polygon(tuple(corners[[0, 2]].T[[0, 1, 5, 4]]))\n",
    "# Poly"
   ]
  },
  {
   "cell_type": "code",
   "execution_count": 14,
   "metadata": {},
   "outputs": [
    {
     "output_type": "stream",
     "name": "stdout",
     "text": "My Interpolated Point: [0.0, 0.0, 4.0]\t(after rotation of 0.0 deg about [0. 0. 0.])\nMy Interpolated Point: [1.9999999999999998, 0.0, 3.464101615137755]\t(after rotation of 30.0 deg about [0. 1. 0.])\nMy Interpolated Point: [3.4641016151377535, 0.0, 2.0]\t(after rotation of 60.0 deg about [0. 1. 0.])\nMy Interpolated Point: [4.0, 0.0, -8.881784197001252e-16]\t(after rotation of 90.0 deg about [0. 1. 0.])\nDone!\n"
    }
   ],
   "source": [
    "import pyquaternion\n",
    "# # Create a quaternion representing a rotation of +90 degrees about positive y axis.\n",
    "my_quaternion = pyquaternion.Quaternion(axis=[0, 1, 0], degrees=90)\n",
    "my_vector = [0, 0, 4]\n",
    "# my_rotated_vector = my_quaternion.rotate(my_vector)\n",
    "\n",
    "# print('\\nBasic Rotation')\n",
    "# print('--------------')\n",
    "# print('My Vector: {}'.format(my_vector))\n",
    "# print('Performing rotation of {angle} deg about {axis}'.format(angle=my_quaternion.degrees, axis=my_quaternion.axis))\n",
    "# print('My Rotated Vector: {}'.format(my_rotated_vector))\n",
    "\n",
    "# # Create another quaternion representing no rotation at all\n",
    "null_quaternion = pyquaternion.Quaternion(axis=[0, 1, 0], angle=0)\n",
    "\n",
    "# print('\\nInterpolated Rotation')\n",
    "# print('---------------------')\n",
    "\n",
    "# The following will create a sequence of 9 intermediate quaternion rotation objects\n",
    "# 创建9个中间四元数旋转对象的序列，即从开始到结束，分为9个中间旋转状态向量\n",
    "for q in pyquaternion.Quaternion.intermediates(null_quaternion, my_quaternion, 2, include_endpoints=True):\n",
    "    my_interpolated_point = q.rotate(my_vector)\n",
    "    print('My Interpolated Point: {point}\\t(after rotation of {angle} deg about {axis})'.format(\n",
    "        point=my_interpolated_point, angle=round(q.degrees, 4), axis=q.axis\n",
    "    ))\n",
    "    \n",
    "print('Done!')"
   ]
  },
  {
   "cell_type": "code",
   "execution_count": 2,
   "metadata": {},
   "outputs": [
    {
     "output_type": "stream",
     "name": "stdout",
     "text": "[[ 3.73346217 -1.53702704  2.12469026]]\n"
    }
   ],
   "source": [
    "import numpy as np \n",
    "\n",
    "class SearchSpace(object):  # 定义搜索区域的属性\n",
    "\n",
    "    def reset(self):\n",
    "        raise NotImplementedError\n",
    "\n",
    "    def sample(self):\n",
    "        raise NotImplementedError\n",
    "\n",
    "    def addData(self, data, score):\n",
    "        return\n",
    "\n",
    "class KalmanFiltering(SearchSpace):\n",
    "    def __init__(self, bnd=[1, 1, 10]):\n",
    "        self.bnd = bnd  # bnd = bounding?\n",
    "        self.reset()\n",
    "\n",
    "    def sample(self, n=10):\n",
    "        # np.random.multivariate_normal方法用于根据实际情况生成一个多元正态分布矩阵\n",
    "        # self.mean是1维的，(1, 3)\n",
    "        # 数组大小为(n, 3)\n",
    "        return np.random.multivariate_normal(self.mean, self.cov, size=n)\n",
    "\n",
    "    def addData(self, data, score):\n",
    "        score = score.clip(min=1e-5)\n",
    "        # prevent sum=0 in case of bad scores\n",
    "        # 最小值不小于1e-5\n",
    "        # 更新下列参数\n",
    "        self.data = np.concatenate((self.data, data))\n",
    "        self.score = np.concatenate((self.score, score))\n",
    "        self.mean = np.average(self.data, weights=self.score, axis=0)\n",
    "        # 加权平均\n",
    "        self.cov = np.cov(self.data.T, ddof=0, aweights=self.score)\n",
    "        # ddof=0，返回简单平均值，使用aweights(analytic weights)赋予观测向量权重\n",
    "\n",
    "    def reset(self):\n",
    "        self.mean = np.zeros(len(self.bnd))\n",
    "        self.cov = np.diag(self.bnd)\n",
    "        if len(self.bnd) == 2:\n",
    "            self.data = np.array([[], []]).T\n",
    "        else:\n",
    "            self.data = np.array([[], [], []]).T\n",
    "        self.score = np.array([])\n",
    "\n",
    "gaussian = KalmanFiltering(bnd=[1, 1, 5])\n",
    "sample_offsets = gaussian.sample(1)[0]\n",
    "print(sample_offsets)"
   ]
  },
  {
   "cell_type": "code",
   "execution_count": 22,
   "metadata": {},
   "outputs": [
    {
     "output_type": "stream",
     "name": "stdout",
     "text": "[[1.5 1.4]\n [1.  2. ]\n [1.  2. ]]\n"
    }
   ],
   "source": [
    "points = [[1.5, 1.4, 3, 0.5],[1, 2, 4, -1], [1, 2, 5, 6]]\n",
    "points = np.asarray(points)\n",
    "# print(points[0, :])\n",
    "\n",
    "x_filt_max = points[0, :] < 2\n",
    "x_filt_min = points[0, :] > 1\n",
    "y_filt_max = points[1, :] < 3\n",
    "y_filt_min = points[1, :] > 0\n",
    "z_filt_max = points[2, :] < 4\n",
    "z_filt_min = points[2, :] > -2\n",
    "\n",
    "close = np.logical_and(x_filt_min, x_filt_max)\n",
    "close = np.logical_and(close, y_filt_min)\n",
    "close = np.logical_and(close, y_filt_max)\n",
    "close = np.logical_and(close, z_filt_min)\n",
    "close = np.logical_and(close, z_filt_max)\n",
    "\n",
    "print(points[:, close])"
   ]
  },
  {
   "cell_type": "code",
   "execution_count": 10,
   "metadata": {},
   "outputs": [
    {
     "output_type": "execute_result",
     "data": {
      "text/plain": "(array([[[-10.,   0.,  10.],\n         [-10.,   0.,  10.],\n         [-10.,   0.,  10.]],\n \n        [[-10.,   0.,  10.],\n         [-10.,   0.,  10.],\n         [-10.,   0.,  10.]],\n \n        [[-10.,   0.,  10.],\n         [-10.,   0.,  10.],\n         [-10.,   0.,  10.]],\n \n        [[-10.,   0.,  10.],\n         [-10.,   0.,  10.],\n         [-10.,   0.,  10.]],\n \n        [[-10.,   0.,  10.],\n         [-10.,   0.,  10.],\n         [-10.,   0.,  10.]],\n \n        [[-10.,   0.,  10.],\n         [-10.,   0.,  10.],\n         [-10.,   0.,  10.]],\n \n        [[-10.,   0.,  10.],\n         [-10.,   0.,  10.],\n         [-10.,   0.,  10.]]]),\n array([-10.,   0.,  10., -10.,   0.,  10., -10.,   0.,  10., -10.,   0.,\n         10., -10.,   0.,  10., -10.,   0.,  10., -10.,   0.,  10., -10.,\n          0.,  10., -10.,   0.,  10., -10.,   0.,  10., -10.,   0.,  10.,\n        -10.,   0.,  10., -10.,   0.,  10., -10.,   0.,  10., -10.,   0.,\n         10., -10.,   0.,  10., -10.,   0.,  10., -10.,   0.,  10., -10.,\n          0.,  10., -10.,   0.,  10., -10.,   0.,  10.]))"
     },
     "metadata": {},
     "execution_count": 10
    }
   ],
   "source": [
    "import numpy as np \n",
    "search_space=[[-3.0, 3.0], [-3.0, 3.0], [-10.0, 10.0]]\n",
    "search_dims=[7, 7, 3]\n",
    "x_space = np.linspace(search_space[2][0], search_space[2][1], search_dims[2])\n",
    "y_space = np.linspace(\n",
    "    search_space[1][0], search_space[1][1],\n",
    "    search_dims[1])\n",
    "\n",
    "a_space = np.linspace(\n",
    "    search_space[2][0], search_space[2][1],\n",
    "    search_dims[2])\n",
    "X, Y, A = np.meshgrid(x_space, y_space, a_space)\n",
    "A, A.flatten()\n",
    "# search_grid = np.array([X.flatten(), Y.flatten(), A.flatten()]).T\n",
    "# search_grid\n",
    "\n"
   ]
  },
  {
   "cell_type": "code",
   "execution_count": 3,
   "metadata": {},
   "outputs": [
    {
     "output_type": "execute_result",
     "data": {
      "text/plain": [
       "torch.Size([8, 384, 512])"
      ]
     },
     "metadata": {},
     "execution_count": 3
    }
   ],
   "source": [
    "from pointnet2.utils.pointnet2_modules import PointnetFPModule\n",
    "import etw_pytorch_utils as pt_utils\n",
    "import torch\n",
    "test_module = PointnetFPModule()\n",
    "unknown = torch.randn((8, 512, 3)).cuda()\n",
    "known = torch.randn((8, 256, 3)).cuda()\n",
    "unknown_feats = torch.randn((8, 128, 512)).cuda()\n",
    "known_feats = torch.randn((8, 256, 256)).cuda()\n",
    "new_feats = test_module(unknown, known, unknown_feats, known_feats)\n",
    "new_feats.shape"
   ]
  },
  {
   "cell_type": "code",
   "execution_count": null,
   "metadata": {},
   "outputs": [],
   "source": []
  }
 ],
 "metadata": {
  "language_info": {
   "codemirror_mode": {
    "name": "ipython",
    "version": 3
   },
   "file_extension": ".py",
   "mimetype": "text/x-python",
   "name": "python",
   "nbconvert_exporter": "python",
   "pygments_lexer": "ipython3",
   "version": "3.6.12-final"
  },
  "orig_nbformat": 2,
  "kernelspec": {
   "name": "python3",
   "display_name": "Python 3.6.12 64-bit ('zhou': conda)",
   "metadata": {
    "interpreter": {
     "hash": "8260925e8311b679e92b1ebddef16cbd7b6fd9d1cab3ac4acda3a1d3485d79f7"
    }
   }
  }
 },
 "nbformat": 4,
 "nbformat_minor": 2
}